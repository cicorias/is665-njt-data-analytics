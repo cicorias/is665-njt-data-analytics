{
 "cells": [
  {
   "cell_type": "markdown",
   "id": "e55111ef",
   "metadata": {},
   "source": [
    "# Python Assignment 1: Wordle"
   ]
  },
  {
   "cell_type": "markdown",
   "id": "31dc8d8f",
   "metadata": {},
   "source": [
    "In this assignment, you will create a simplified version of the game \"Wordle\"\n",
    "https://www.nytimes.com/games/wordle/index.html\n",
    "\n",
    "RULES:\n",
    "The player has SIX chances to guess a five-letter word (For our assignment, it does NOT have to be a valid five-letter word, any combination of five letters would be fine).\n",
    "\n",
    "Hit the enter button to submit.\n",
    "\n",
    "After each guess, the color of the tiles will change to show how close the guess was to the word:\n",
    "YELLOW means that the letter is in the word but in the wrong spot\n",
    "GREEN means that the letter is in the word and in the wrong spot\n",
    "BLACK means that the letter is not in the word\n",
    "\n",
    "Have fun :)\n",
    "\n",
    "\n"
   ]
  },
  {
   "cell_type": "code",
   "execution_count": 5,
   "id": "9c28eb25",
   "metadata": {},
   "outputs": [
    {
     "name": "stdout",
     "output_type": "stream",
     "text": [
      "round\n",
      "\n",
      "quitting\n",
      "done...\n"
     ]
    }
   ],
   "source": [
    "# I put this at the top so you can just run it first...\n",
    "\n",
    "\n",
    "#STEP 4: Check the input against your word and give feedback to the user\n",
    "\n",
    "#HELPFUL TIPS: some methods you might find useful are (you do NOT have to use them, you can build your own solutions):\n",
    "#              1. String find()  --  https://www.w3schools.com/python/ref_string_find.asp\n",
    "#              2. String rfind() --  https://www.w3schools.com/python/ref_string_rfind.asp\n",
    "#              3. How to print texts in color: https://www.geeksforgeeks.org/print-colors-python-terminal/\n",
    "\n",
    "# Jupyter Notebook has \"auto-print\" feature to help users, and the input might be printed in your output although you did not \n",
    "# code it. It is OK if this happens.\n",
    "\n",
    "import random\n",
    "\n",
    "lines = []\n",
    "with open('words.txt') as test:\n",
    "    lines = test.readlines()\n",
    "\n",
    "random_index = random.randint(0,len(lines)-1)\n",
    "word_to_guess = lines[random_index].lower()\n",
    "word_mask = [0,0,0,0,0]\n",
    "\n",
    "\n",
    "def prBlack(skk):\n",
    "    print(\"\\033[98m {}\\033[00m\".format(skk), end='')\n",
    "def prGreen(skk):\n",
    "    print(\"\\033[92m {}\\033[00m\".format(skk), end='')\n",
    "def prYellow(skk):\n",
    "    print(\"\\033[93m {}\\033[00m\".format(skk), end='')\n",
    "\n",
    "def print_mask():\n",
    "    for i in range(0,5):\n",
    "        if word_mask[i] == 0:\n",
    "            prBlack(\"_\")\n",
    "        elif (word_mask[i] == 1):\n",
    "            prYellow(\"Y\")\n",
    "        else:\n",
    "            prGreen(word_to_guess[i])\n",
    "\n",
    " \n",
    "def build_mask(word):\n",
    "    matches = 0\n",
    "    for i in range(0,5):\n",
    "        if word[i] == word_to_guess[i]:\n",
    "            word_mask[i] = 2\n",
    "            matches += 1\n",
    "        elif word[i] in word_to_guess:\n",
    "            word_mask[i] = 1\n",
    "        else:\n",
    "            word_mask[i] = 0      \n",
    "\n",
    "    return matches\n",
    "\n",
    "\n",
    "\n",
    "while True:\n",
    "    try:\n",
    "        word = input(\"Enter a 5 letter word 0 to end: \").lower()\n",
    "        if word == \"0\":\n",
    "            raise SystemExit\n",
    "        if len(word) > 5 or len(word) < 1:\n",
    "          raise ValueError\n",
    "    except ValueError:\n",
    "        print(\"Word must be 5 characters\")\n",
    "        #better try again... Return to the start of the loop\n",
    "        continue\n",
    "    except SystemExit:\n",
    "        print(\"quitting\")\n",
    "        break\n",
    "    else:\n",
    "        #word was successfully parsed!\n",
    "        if build_mask(word) == 5:\n",
    "            print(\"You win!\")\n",
    "            break\n",
    "        else:\n",
    "            print_mask()\n",
    "            print(\"\\nTry again\")\n",
    "\n",
    "\n",
    "print(\"done...\")"
   ]
  },
  {
   "cell_type": "code",
   "execution_count": 2,
   "id": "3c75400f",
   "metadata": {},
   "outputs": [
    {
     "name": "stdout",
     "output_type": "stream",
     "text": [
      "<class 'list'>\n"
     ]
    },
    {
     "data": {
      "text/plain": [
       "'Adult\\n'"
      ]
     },
     "execution_count": 2,
     "metadata": {},
     "output_type": "execute_result"
    }
   ],
   "source": [
    "#STEP 1: Read a file that has a list of five-letter words. This is the \"words.txt\" file included in the assignment\n",
    "\n",
    "#HElPFUL TIPS: The following code is used for reading a text file. Note that \"lines\" is a list that contains all words \n",
    "#              from the file.     \n",
    "\n",
    "lines = []\n",
    "with open('words.txt') as test:\n",
    "    lines = test.readlines()\n",
    "print(type(lines))\n",
    "lines[1]"
   ]
  },
  {
   "cell_type": "code",
   "execution_count": 3,
   "id": "1c12eeb8",
   "metadata": {},
   "outputs": [
    {
     "name": "stdout",
     "output_type": "stream",
     "text": [
      "Prime\n",
      "\n"
     ]
    }
   ],
   "source": [
    "#STEP 2: Randomly choose a word as your puzzle \n",
    "\n",
    "import random\n",
    "random_index = random.randint(0,len(lines)-1)\n",
    "print(lines[random_index])"
   ]
  },
  {
   "cell_type": "code",
   "execution_count": 4,
   "id": "7b9ba4ac",
   "metadata": {},
   "outputs": [
    {
     "name": "stdout",
     "output_type": "stream",
     "text": [
      "Word must be 5 characters\n",
      "Word is 5 characters\n",
      "will use 0\n"
     ]
    }
   ],
   "source": [
    "#STEP 3: Prompt the user to enter a five-letter word. Make sure that you check for the length of the input and print an error\n",
    "#        message if it is not five letters, prompting them to enter again\n",
    "\n",
    "while True:\n",
    "    try:\n",
    "        word = input(\"Enter a 5 letter word: \")\n",
    "        if len(word) > 5 or len(word) < 1:\n",
    "          raise ValueError\n",
    "    except ValueError:\n",
    "        print(\"Word must be 5 characters\")\n",
    "        #better try again... Return to the start of the loop\n",
    "        continue\n",
    "    else:\n",
    "        #word was successfully parsed!\n",
    "        print(\"Word is 5 characters\")\n",
    "        break\n",
    "\n",
    "print(\"will use \" + word)\n"
   ]
  }
 ],
 "metadata": {
  "kernelspec": {
   "display_name": "Python 3",
   "language": "python",
   "name": "python3"
  },
  "language_info": {
   "codemirror_mode": {
    "name": "ipython",
    "version": 3
   },
   "file_extension": ".py",
   "mimetype": "text/x-python",
   "name": "python",
   "nbconvert_exporter": "python",
   "pygments_lexer": "ipython3",
   "version": "3.10.6"
  }
 },
 "nbformat": 4,
 "nbformat_minor": 5
}
